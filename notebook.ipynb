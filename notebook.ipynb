{
 "cells": [
  {
   "cell_type": "markdown",
   "metadata": {},
   "source": [
    "# Dataset Analysis"
   ]
  },
  {
   "attachments": {},
   "cell_type": "markdown",
   "metadata": {},
   "source": [
    "## Import"
   ]
  },
  {
   "cell_type": "code",
   "execution_count": 1,
   "metadata": {},
   "outputs": [],
   "source": [
    "import csv\n",
    "import pandas as pd\n",
    "import numpy as np\n",
    "import networkx as nx\n",
    "import matplotlib.pyplot as plt\n",
    "import matplotlib as mpl\n",
    "import seaborn as sns"
   ]
  },
  {
   "attachments": {},
   "cell_type": "markdown",
   "metadata": {},
   "source": [
    "# Dataset"
   ]
  },
  {
   "cell_type": "code",
   "execution_count": 2,
   "metadata": {},
   "outputs": [],
   "source": [
    "# Read tsv file\n",
    "r_body = pd.read_csv('soc-redditHyperlinks-body.tsv', sep='\\t')\n",
    "r_title = pd.read_csv('soc-redditHyperlinks-title.tsv', sep='\\t')\n",
    "\n",
    "# Merge two dataframes\n",
    "r = pd.concat([r_body, r_title])\n",
    "r = r.drop(['PROPERTIES'], axis=1)\n",
    "\n",
    "r_neg = r[r['LINK_SENTIMENT'] == -1]\n",
    "r_pos = r[r['LINK_SENTIMENT'] == 1]\n"
   ]
  },
  {
   "cell_type": "code",
   "execution_count": 3,
   "metadata": {},
   "outputs": [
    {
     "data": {
      "text/html": [
       "<div>\n",
       "<style scoped>\n",
       "    .dataframe tbody tr th:only-of-type {\n",
       "        vertical-align: middle;\n",
       "    }\n",
       "\n",
       "    .dataframe tbody tr th {\n",
       "        vertical-align: top;\n",
       "    }\n",
       "\n",
       "    .dataframe thead th {\n",
       "        text-align: right;\n",
       "    }\n",
       "</style>\n",
       "<table border=\"1\" class=\"dataframe\">\n",
       "  <thead>\n",
       "    <tr style=\"text-align: right;\">\n",
       "      <th></th>\n",
       "      <th>SOURCE_SUBREDDIT</th>\n",
       "      <th>TARGET_SUBREDDIT</th>\n",
       "      <th>POST_ID</th>\n",
       "      <th>TIMESTAMP</th>\n",
       "      <th>LINK_SENTIMENT</th>\n",
       "      <th>PROPERTIES</th>\n",
       "    </tr>\n",
       "  </thead>\n",
       "  <tbody>\n",
       "    <tr>\n",
       "      <th>0</th>\n",
       "      <td>leagueoflegends</td>\n",
       "      <td>teamredditteams</td>\n",
       "      <td>1u4nrps</td>\n",
       "      <td>2013-12-31 16:39:58</td>\n",
       "      <td>1</td>\n",
       "      <td>345.0,298.0,0.75652173913,0.0173913043478,0.08...</td>\n",
       "    </tr>\n",
       "    <tr>\n",
       "      <th>1</th>\n",
       "      <td>theredlion</td>\n",
       "      <td>soccer</td>\n",
       "      <td>1u4qkd</td>\n",
       "      <td>2013-12-31 18:18:37</td>\n",
       "      <td>-1</td>\n",
       "      <td>101.0,98.0,0.742574257426,0.019801980198,0.049...</td>\n",
       "    </tr>\n",
       "    <tr>\n",
       "      <th>2</th>\n",
       "      <td>inlandempire</td>\n",
       "      <td>bikela</td>\n",
       "      <td>1u4qlzs</td>\n",
       "      <td>2014-01-01 14:54:35</td>\n",
       "      <td>1</td>\n",
       "      <td>85.0,85.0,0.752941176471,0.0235294117647,0.082...</td>\n",
       "    </tr>\n",
       "    <tr>\n",
       "      <th>3</th>\n",
       "      <td>nfl</td>\n",
       "      <td>cfb</td>\n",
       "      <td>1u4sjvs</td>\n",
       "      <td>2013-12-31 17:37:55</td>\n",
       "      <td>1</td>\n",
       "      <td>1124.0,949.0,0.772241992883,0.0017793594306,0....</td>\n",
       "    </tr>\n",
       "    <tr>\n",
       "      <th>4</th>\n",
       "      <td>playmygame</td>\n",
       "      <td>gamedev</td>\n",
       "      <td>1u4w5ss</td>\n",
       "      <td>2014-01-01 02:51:13</td>\n",
       "      <td>1</td>\n",
       "      <td>715.0,622.0,0.777622377622,0.00699300699301,0....</td>\n",
       "    </tr>\n",
       "  </tbody>\n",
       "</table>\n",
       "</div>"
      ],
      "text/plain": [
       "  SOURCE_SUBREDDIT TARGET_SUBREDDIT  POST_ID            TIMESTAMP  \\\n",
       "0  leagueoflegends  teamredditteams  1u4nrps  2013-12-31 16:39:58   \n",
       "1       theredlion           soccer   1u4qkd  2013-12-31 18:18:37   \n",
       "2     inlandempire           bikela  1u4qlzs  2014-01-01 14:54:35   \n",
       "3              nfl              cfb  1u4sjvs  2013-12-31 17:37:55   \n",
       "4       playmygame          gamedev  1u4w5ss  2014-01-01 02:51:13   \n",
       "\n",
       "   LINK_SENTIMENT                                         PROPERTIES  \n",
       "0               1  345.0,298.0,0.75652173913,0.0173913043478,0.08...  \n",
       "1              -1  101.0,98.0,0.742574257426,0.019801980198,0.049...  \n",
       "2               1  85.0,85.0,0.752941176471,0.0235294117647,0.082...  \n",
       "3               1  1124.0,949.0,0.772241992883,0.0017793594306,0....  \n",
       "4               1  715.0,622.0,0.777622377622,0.00699300699301,0....  "
      ]
     },
     "execution_count": 3,
     "metadata": {},
     "output_type": "execute_result"
    }
   ],
   "source": [
    "r_body.head()"
   ]
  },
  {
   "cell_type": "code",
   "execution_count": 4,
   "metadata": {},
   "outputs": [
    {
     "data": {
      "text/html": [
       "<div>\n",
       "<style scoped>\n",
       "    .dataframe tbody tr th:only-of-type {\n",
       "        vertical-align: middle;\n",
       "    }\n",
       "\n",
       "    .dataframe tbody tr th {\n",
       "        vertical-align: top;\n",
       "    }\n",
       "\n",
       "    .dataframe thead th {\n",
       "        text-align: right;\n",
       "    }\n",
       "</style>\n",
       "<table border=\"1\" class=\"dataframe\">\n",
       "  <thead>\n",
       "    <tr style=\"text-align: right;\">\n",
       "      <th></th>\n",
       "      <th>SOURCE_SUBREDDIT</th>\n",
       "      <th>TARGET_SUBREDDIT</th>\n",
       "      <th>POST_ID</th>\n",
       "      <th>TIMESTAMP</th>\n",
       "      <th>LINK_SENTIMENT</th>\n",
       "      <th>PROPERTIES</th>\n",
       "    </tr>\n",
       "  </thead>\n",
       "  <tbody>\n",
       "    <tr>\n",
       "      <th>430954</th>\n",
       "      <td>conspiracy</td>\n",
       "      <td>politics</td>\n",
       "      <td>515sqes</td>\n",
       "      <td>2016-09-04 13:27:05</td>\n",
       "      <td>1</td>\n",
       "      <td>178.0,154.0,0.797752808989,0.0112359550562,0.0...</td>\n",
       "    </tr>\n",
       "    <tr>\n",
       "      <th>456364</th>\n",
       "      <td>marvel</td>\n",
       "      <td>wyt10</td>\n",
       "      <td>58jomys</td>\n",
       "      <td>2016-10-20 15:05:17</td>\n",
       "      <td>1</td>\n",
       "      <td>45.0,39.0,0.755555555556,0.0444444444444,0.177...</td>\n",
       "    </tr>\n",
       "    <tr>\n",
       "      <th>11427</th>\n",
       "      <td>enoughlibertarianspam</td>\n",
       "      <td>libertarian</td>\n",
       "      <td>1xavnks</td>\n",
       "      <td>2014-02-07 13:26:03</td>\n",
       "      <td>1</td>\n",
       "      <td>113.0,99.0,0.796460176991,0.0,0.0530973451327,...</td>\n",
       "    </tr>\n",
       "    <tr>\n",
       "      <th>276905</th>\n",
       "      <td>shitpost</td>\n",
       "      <td>creepy</td>\n",
       "      <td>3s472ks</td>\n",
       "      <td>2015-11-09 10:16:33</td>\n",
       "      <td>1</td>\n",
       "      <td>83.0,69.0,0.734939759036,0.0,0.0963855421687,0...</td>\n",
       "    </tr>\n",
       "    <tr>\n",
       "      <th>74445</th>\n",
       "      <td>goldguysplayground</td>\n",
       "      <td>askreddit</td>\n",
       "      <td>2d2v6zs</td>\n",
       "      <td>2014-08-09 10:38:41</td>\n",
       "      <td>1</td>\n",
       "      <td>103.0,86.0,0.766990291262,0.0,0.0873786407767,...</td>\n",
       "    </tr>\n",
       "    <tr>\n",
       "      <th>256793</th>\n",
       "      <td>upvotedbecausegirl</td>\n",
       "      <td>funny</td>\n",
       "      <td>3mvk9ns</td>\n",
       "      <td>2015-09-29 22:20:56</td>\n",
       "      <td>1</td>\n",
       "      <td>102.0,87.0,0.764705882353,0.0,0.0882352941176,...</td>\n",
       "    </tr>\n",
       "    <tr>\n",
       "      <th>171775</th>\n",
       "      <td>fairshareloans</td>\n",
       "      <td>randomactsofpizza</td>\n",
       "      <td>326hzcs</td>\n",
       "      <td>2015-04-10 22:11:44</td>\n",
       "      <td>1</td>\n",
       "      <td>88.0,77.0,0.829545454545,0.0,0.159090909091,0....</td>\n",
       "    </tr>\n",
       "    <tr>\n",
       "      <th>433620</th>\n",
       "      <td>drama</td>\n",
       "      <td>news</td>\n",
       "      <td>51z1vxs</td>\n",
       "      <td>2016-09-09 11:55:31</td>\n",
       "      <td>1</td>\n",
       "      <td>62.0,54.0,0.806451612903,0.0,0.806451612903,0....</td>\n",
       "    </tr>\n",
       "    <tr>\n",
       "      <th>87467</th>\n",
       "      <td>tributeme</td>\n",
       "      <td>gonewildcurvy</td>\n",
       "      <td>2gbrkys</td>\n",
       "      <td>2014-09-13 15:27:09</td>\n",
       "      <td>1</td>\n",
       "      <td>71.0,62.0,0.746478873239,0.0,0.197183098592,0....</td>\n",
       "    </tr>\n",
       "    <tr>\n",
       "      <th>77617</th>\n",
       "      <td>oppression</td>\n",
       "      <td>technology</td>\n",
       "      <td>2dw0eos</td>\n",
       "      <td>2014-08-18 00:33:54</td>\n",
       "      <td>1</td>\n",
       "      <td>113.0,98.0,0.796460176991,0.0,0.070796460177,0...</td>\n",
       "    </tr>\n",
       "  </tbody>\n",
       "</table>\n",
       "</div>"
      ],
      "text/plain": [
       "             SOURCE_SUBREDDIT   TARGET_SUBREDDIT  POST_ID  \\\n",
       "430954             conspiracy           politics  515sqes   \n",
       "456364                 marvel              wyt10  58jomys   \n",
       "11427   enoughlibertarianspam        libertarian  1xavnks   \n",
       "276905               shitpost             creepy  3s472ks   \n",
       "74445      goldguysplayground          askreddit  2d2v6zs   \n",
       "256793     upvotedbecausegirl              funny  3mvk9ns   \n",
       "171775         fairshareloans  randomactsofpizza  326hzcs   \n",
       "433620                  drama               news  51z1vxs   \n",
       "87467               tributeme      gonewildcurvy  2gbrkys   \n",
       "77617              oppression         technology  2dw0eos   \n",
       "\n",
       "                  TIMESTAMP  LINK_SENTIMENT  \\\n",
       "430954  2016-09-04 13:27:05               1   \n",
       "456364  2016-10-20 15:05:17               1   \n",
       "11427   2014-02-07 13:26:03               1   \n",
       "276905  2015-11-09 10:16:33               1   \n",
       "74445   2014-08-09 10:38:41               1   \n",
       "256793  2015-09-29 22:20:56               1   \n",
       "171775  2015-04-10 22:11:44               1   \n",
       "433620  2016-09-09 11:55:31               1   \n",
       "87467   2014-09-13 15:27:09               1   \n",
       "77617   2014-08-18 00:33:54               1   \n",
       "\n",
       "                                               PROPERTIES  \n",
       "430954  178.0,154.0,0.797752808989,0.0112359550562,0.0...  \n",
       "456364  45.0,39.0,0.755555555556,0.0444444444444,0.177...  \n",
       "11427   113.0,99.0,0.796460176991,0.0,0.0530973451327,...  \n",
       "276905  83.0,69.0,0.734939759036,0.0,0.0963855421687,0...  \n",
       "74445   103.0,86.0,0.766990291262,0.0,0.0873786407767,...  \n",
       "256793  102.0,87.0,0.764705882353,0.0,0.0882352941176,...  \n",
       "171775  88.0,77.0,0.829545454545,0.0,0.159090909091,0....  \n",
       "433620  62.0,54.0,0.806451612903,0.0,0.806451612903,0....  \n",
       "87467   71.0,62.0,0.746478873239,0.0,0.197183098592,0....  \n",
       "77617   113.0,98.0,0.796460176991,0.0,0.070796460177,0...  "
      ]
     },
     "execution_count": 4,
     "metadata": {},
     "output_type": "execute_result"
    }
   ],
   "source": [
    "r_title.sample(10)"
   ]
  },
  {
   "cell_type": "code",
   "execution_count": 5,
   "metadata": {},
   "outputs": [
    {
     "name": "stdout",
     "output_type": "stream",
     "text": [
      "Percentage of positive and negative links in title\n",
      " 1    0.893098\n",
      "-1    0.106902\n",
      "Name: LINK_SENTIMENT, dtype: float64\n",
      "\n",
      "Percentage of positive and negative links in body\n",
      " 1    0.926473\n",
      "-1    0.073527\n",
      "Name: LINK_SENTIMENT, dtype: float64\n"
     ]
    }
   ],
   "source": [
    "print(\"Percentage of positive and negative links in title\")\n",
    "print(r_title['LINK_SENTIMENT'].value_counts(normalize=True))\n",
    "\n",
    "print(\"\\nPercentage of positive and negative links in body\")\n",
    "print(r_body['LINK_SENTIMENT'].value_counts(normalize=True))"
   ]
  },
  {
   "cell_type": "code",
   "execution_count": 6,
   "metadata": {},
   "outputs": [
    {
     "name": "stdout",
     "output_type": "stream",
     "text": [
      "Probability that a negative link is in the body\n",
      "0.2562948546405547\n",
      "Probability that a positive link is in the title\n",
      "6.213197907797105\n"
     ]
    }
   ],
   "source": [
    "# probability that a negative link is in the body\n",
    "print(\"Probability that a negative link is in the body\")\n",
    "print(len(r_body[r_body['LINK_SENTIMENT'] == -1]) / len(r_neg))\n",
    "\n",
    "# probability that a positive link is in the title\n",
    "print(\"Probability that a positive link is in the title\")\n",
    "print(len(r_title[r_title['LINK_SENTIMENT'] == 1]) / len(r_neg))\n"
   ]
  },
  {
   "cell_type": "markdown",
   "metadata": {},
   "source": [
    "# Graph"
   ]
  },
  {
   "cell_type": "code",
   "execution_count": 7,
   "metadata": {},
   "outputs": [
    {
     "name": "stdout",
     "output_type": "stream",
     "text": [
      "Number of nodes in negative graph:  12069\n",
      "Number of nodes in positive graph:  65892\n",
      "Number of nodes in total graph:  67180\n"
     ]
    }
   ],
   "source": [
    "# get graph with networkx\n",
    "G_neg = nx.from_pandas_edgelist(r_neg, 'SOURCE_SUBREDDIT', 'TARGET_SUBREDDIT',edge_attr='LINK_SENTIMENT', create_using=nx.DiGraph())\n",
    "G_pos = nx.from_pandas_edgelist(r_pos, 'SOURCE_SUBREDDIT', 'TARGET_SUBREDDIT',edge_attr='LINK_SENTIMENT', create_using=nx.DiGraph())\n",
    "G = nx.from_pandas_edgelist(r, 'SOURCE_SUBREDDIT', 'TARGET_SUBREDDIT',edge_attr='LINK_SENTIMENT', create_using=nx.DiGraph())\n",
    "\n",
    "# remove self loop\n",
    "G_neg.remove_edges_from(nx.selfloop_edges(G_neg))\n",
    "G_pos.remove_edges_from(nx.selfloop_edges(G_pos))\n",
    "G.remove_edges_from(nx.selfloop_edges(G))\n",
    "\n",
    "# remove nodes with degree 0\n",
    "G_neg.remove_nodes_from(list(nx.isolates(G_neg)))\n",
    "G_pos.remove_nodes_from(list(nx.isolates(G_pos)))\n",
    "G.remove_nodes_from(list(nx.isolates(G)))\n",
    "\n",
    "# print number of nodes\n",
    "print('Number of nodes in negative graph: ', G_neg.number_of_nodes())\n",
    "print('Number of nodes in positive graph: ', G_pos.number_of_nodes())\n",
    "print('Number of nodes in total graph: ', G.number_of_nodes())\n"
   ]
  },
  {
   "cell_type": "code",
   "execution_count": 8,
   "metadata": {},
   "outputs": [
    {
     "name": "stdout",
     "output_type": "stream",
     "text": [
      "\n",
      "Max degree of negative graph:  2056\n",
      "Max degree of positive graph:  5504\n",
      "Max degree of total graph:  5811\n"
     ]
    }
   ],
   "source": [
    "deg_neg = dict(G_neg.degree())\n",
    "deg_pos = dict(G_pos.degree())\n",
    "deg = dict(G.degree())\n",
    "\n",
    "max_deg_neg = max(deg_neg.values())\n",
    "max_deg_pos = max(deg_pos.values())\n",
    "max_deg = max(deg.values())\n",
    "\n",
    "print('\\nMax degree of negative graph: ', max_deg_neg)\n",
    "print('Max degree of positive graph: ', max_deg_pos)\n",
    "print('Max degree of total graph: ', max_deg)\n",
    "\n",
    "# out degree\n",
    "out_deg_neg = dict(G_neg.out_degree())\n",
    "out_deg_pos = dict(G_pos.out_degree())\n",
    "out_deg = dict(G.out_degree())\n",
    "\n",
    "# in degree\n",
    "in_deg_neg = dict(G_neg.in_degree())\n",
    "in_deg_pos = dict(G_pos.in_degree())\n",
    "in_deg = dict(G.in_degree())"
   ]
  },
  {
   "cell_type": "code",
   "execution_count": 9,
   "metadata": {},
   "outputs": [
    {
     "name": "stdout",
     "output_type": "stream",
     "text": [
      "total unique nodes:  67180\n",
      "nodes with out degree neg > 10:  0.00821673116999107\n",
      "nodes with in degree neg > 10:  0.009749925573087228\n"
     ]
    }
   ],
   "source": [
    "# sort out degree\n",
    "out_deg_neg = {k: v for k, v in sorted(out_deg_neg.items(), key=lambda item: item[1], reverse=True)}\n",
    "out_deg_pos = {k: v for k, v in sorted(out_deg_pos.items(), key=lambda item: item[1], reverse=True)}\n",
    "out_deg = {k: v for k, v in sorted(out_deg.items(), key=lambda item: item[1], reverse=True)}\n",
    "\n",
    "in_deg_neg = {k: v for k, v in sorted(in_deg_neg.items(), key=lambda item: item[1], reverse=True)}\n",
    "in_deg_pos = {k: v for k, v in sorted(in_deg_pos.items(), key=lambda item: item[1], reverse=True)}\n",
    "in_deg = {k: v for k, v in sorted(in_deg.items(), key=lambda item: item[1], reverse=True)}\n",
    "\n",
    "print(\"total unique nodes: \", len(set(list(out_deg_neg.keys()) + list(out_deg_pos.keys()) + list(out_deg.keys()))))\n",
    "print(\"nodes with out degree neg > 10: \", len([x for x in out_deg_neg.values() if x > 10])/len(out_deg))\n",
    "print(\"nodes with in degree neg > 10: \", len([x for x in in_deg_neg.values() if x > 10])/len(out_deg))"
   ]
  },
  {
   "cell_type": "code",
   "execution_count": 10,
   "metadata": {},
   "outputs": [
    {
     "name": "stdout",
     "output_type": "stream",
     "text": [
      "\n",
      "Mean out degree of negative graph:  3.411218825089071\n",
      "Mean out degree of positive graph:  4.879788138165483\n",
      "Mean out degree of total graph:  5.055715986900863\n"
     ]
    }
   ],
   "source": [
    "# mean out degree\n",
    "mean_out_deg_neg = np.mean(list(out_deg_neg.values()))\n",
    "mean_out_deg_pos = np.mean(list(out_deg_pos.values()))\n",
    "mean_out_deg = np.mean(list(out_deg.values()))\n",
    "\n",
    "print('\\nMean out degree of negative graph: ', mean_out_deg_neg)\n",
    "print('Mean out degree of positive graph: ', mean_out_deg_pos)\n",
    "print('Mean out degree of total graph: ', mean_out_deg)"
   ]
  },
  {
   "cell_type": "code",
   "execution_count": 11,
   "metadata": {},
   "outputs": [
    {
     "name": "stdout",
     "output_type": "stream",
     "text": [
      "\n",
      "first 10 nodes with highest out degree in negative graph\n",
      "\t subredditdrama 1759\n",
      "\t bestof 1091\n",
      "\t drama 839\n",
      "\t botsrights 385\n",
      "\t circlebroke2 361\n",
      "\t shitpost 337\n",
      "\t shitredditsays 293\n",
      "\t shitliberalssay 278\n",
      "\t shitamericanssay 273\n",
      "\t the_donald 255\n",
      "\n",
      "first 10 nodes with highest out degree in positive graph\n",
      "\t bestof 2881\n",
      "\t subredditdrama 2541\n",
      "\t titlegore 2466\n",
      "\t drama 1091\n",
      "\t hailcorporate 907\n",
      "\t switcharoo 901\n",
      "\t shitredditsays 873\n",
      "\t gaming 774\n",
      "\t shitamericanssay 747\n",
      "\t the_donald 716\n",
      "\n",
      "first 10 nodes with highest out degree in total graph\n",
      "\t bestof 3111\n",
      "\t subredditdrama 3020\n",
      "\t titlegore 2469\n",
      "\t drama 1413\n",
      "\t hailcorporate 939\n",
      "\t shitredditsays 923\n",
      "\t switcharoo 918\n",
      "\t the_donald 798\n",
      "\t shitamericanssay 793\n",
      "\t botsrights 792\n",
      "\n",
      "first 10 nodes with highest in degree in negative graph\n",
      "\t askreddit 1108\n",
      "\t funny 506\n",
      "\t pics 500\n",
      "\t worldnews 489\n",
      "\t videos 472\n",
      "\t todayilearned 460\n",
      "\t news 445\n",
      "\t iama 390\n",
      "\t adviceanimals 332\n",
      "\t politics 311\n",
      "\n",
      "first 10 nodes with highest in degree in positive graph\n",
      "\t askreddit 5165\n",
      "\t iama 4404\n",
      "\t pics 3193\n",
      "\t funny 2853\n",
      "\t videos 2500\n",
      "\t todayilearned 2463\n",
      "\t gaming 1673\n",
      "\t worldnews 1626\n",
      "\t gifs 1508\n",
      "\t news 1464\n",
      "\n",
      "first 10 nodes with highest in degree in total graph\n",
      "\t askreddit 5448\n",
      "\t iama 4508\n",
      "\t pics 3335\n",
      "\t funny 3031\n",
      "\t videos 2644\n",
      "\t todayilearned 2589\n",
      "\t worldnews 1770\n",
      "\t gaming 1746\n",
      "\t news 1610\n",
      "\t gifs 1591\n"
     ]
    }
   ],
   "source": [
    "print(\"\\nfirst 10 nodes with highest out degree in negative graph\")\n",
    "for i in range(10):\n",
    "    print(\"\\t\", list(out_deg_neg.keys())[i], list(out_deg_neg.values())[i])\n",
    "\n",
    "print(\"\\nfirst 10 nodes with highest out degree in positive graph\")\n",
    "for i in range(10):\n",
    "    print(\"\\t\", list(out_deg_pos.keys())[i], list(out_deg_pos.values())[i])\n",
    "\n",
    "print(\"\\nfirst 10 nodes with highest out degree in total graph\")\n",
    "for i in range(10):\n",
    "    print(\"\\t\", list(out_deg.keys())[i], list(out_deg.values())[i])\n",
    "\n",
    "print(\"\\nfirst 10 nodes with highest in degree in negative graph\")\n",
    "for i in range(10):\n",
    "    print(\"\\t\", list(in_deg_neg.keys())[i], list(in_deg_neg.values())[i])\n",
    "\n",
    "print(\"\\nfirst 10 nodes with highest in degree in positive graph\")\n",
    "for i in range(10):\n",
    "    print(\"\\t\", list(in_deg_pos.keys())[i], list(in_deg_pos.values())[i])\n",
    "\n",
    "print(\"\\nfirst 10 nodes with highest in degree in total graph\")\n",
    "for i in range(10):\n",
    "    print(\"\\t\", list(in_deg.keys())[i], list(in_deg.values())[i])\n",
    "\n"
   ]
  },
  {
   "cell_type": "code",
   "execution_count": 12,
   "metadata": {},
   "outputs": [
    {
     "name": "stdout",
     "output_type": "stream",
     "text": [
      "\n",
      "First 10 nodes with highest out degree neg:\n",
      "out degree neg \t\t out degree pos \t out degree \t\t node\n",
      "1759 \t\t\t 2541 \t\t\t 3020 \t\t\t subredditdrama\n",
      "1091 \t\t\t 2881 \t\t\t 3111 \t\t\t bestof\n",
      "839 \t\t\t 1091 \t\t\t 1413 \t\t\t drama\n",
      "385 \t\t\t 623 \t\t\t 792 \t\t\t botsrights\n",
      "361 \t\t\t 629 \t\t\t 730 \t\t\t circlebroke2\n",
      "337 \t\t\t 690 \t\t\t 783 \t\t\t shitpost\n",
      "293 \t\t\t 873 \t\t\t 923 \t\t\t shitredditsays\n",
      "278 \t\t\t 599 \t\t\t 662 \t\t\t shitliberalssay\n",
      "273 \t\t\t 747 \t\t\t 793 \t\t\t shitamericanssay\n",
      "255 \t\t\t 716 \t\t\t 798 \t\t\t the_donald\n"
     ]
    }
   ],
   "source": [
    "# first 10 nodes with highest out degree neg\n",
    "print('\\nFirst 10 nodes with highest out degree neg:')\n",
    "print('out degree neg \\t\\t out degree pos \\t out degree \\t\\t node')\n",
    "for n in list(out_deg_neg.keys())[:10]:\n",
    "    print(out_deg_neg[n], \"\\t\\t\\t\", out_deg_pos[n], \"\\t\\t\\t\", out_deg[n], \"\\t\\t\\t\", n)\n"
   ]
  },
  {
   "attachments": {},
   "cell_type": "markdown",
   "metadata": {},
   "source": [
    "## Conflicts"
   ]
  },
  {
   "cell_type": "code",
   "execution_count": 13,
   "metadata": {},
   "outputs": [
    {
     "data": {
      "text/html": [
       "<div>\n",
       "<style scoped>\n",
       "    .dataframe tbody tr th:only-of-type {\n",
       "        vertical-align: middle;\n",
       "    }\n",
       "\n",
       "    .dataframe tbody tr th {\n",
       "        vertical-align: top;\n",
       "    }\n",
       "\n",
       "    .dataframe thead th {\n",
       "        text-align: right;\n",
       "    }\n",
       "</style>\n",
       "<table border=\"1\" class=\"dataframe\">\n",
       "  <thead>\n",
       "    <tr style=\"text-align: right;\">\n",
       "      <th></th>\n",
       "      <th>SOURCE_SUBREDDIT</th>\n",
       "      <th>TARGET_SUBREDDIT</th>\n",
       "      <th>counts</th>\n",
       "    </tr>\n",
       "  </thead>\n",
       "  <tbody>\n",
       "    <tr>\n",
       "      <th>31082</th>\n",
       "      <td>shitredditsays</td>\n",
       "      <td>twoxchromosomes</td>\n",
       "      <td>120</td>\n",
       "    </tr>\n",
       "    <tr>\n",
       "      <th>34945</th>\n",
       "      <td>subredditdrama</td>\n",
       "      <td>relationships</td>\n",
       "      <td>100</td>\n",
       "    </tr>\n",
       "    <tr>\n",
       "      <th>14431</th>\n",
       "      <td>evenwithcontext</td>\n",
       "      <td>askreddit</td>\n",
       "      <td>97</td>\n",
       "    </tr>\n",
       "    <tr>\n",
       "      <th>1102</th>\n",
       "      <td>amrsucks</td>\n",
       "      <td>againstmensrights</td>\n",
       "      <td>89</td>\n",
       "    </tr>\n",
       "    <tr>\n",
       "      <th>33765</th>\n",
       "      <td>subredditdrama</td>\n",
       "      <td>askreddit</td>\n",
       "      <td>88</td>\n",
       "    </tr>\n",
       "    <tr>\n",
       "      <th>34837</th>\n",
       "      <td>subredditdrama</td>\n",
       "      <td>pics</td>\n",
       "      <td>85</td>\n",
       "    </tr>\n",
       "    <tr>\n",
       "      <th>32907</th>\n",
       "      <td>srssucks</td>\n",
       "      <td>shitredditsays</td>\n",
       "      <td>79</td>\n",
       "    </tr>\n",
       "    <tr>\n",
       "      <th>35219</th>\n",
       "      <td>subredditdrama</td>\n",
       "      <td>todayilearned</td>\n",
       "      <td>79</td>\n",
       "    </tr>\n",
       "    <tr>\n",
       "      <th>35314</th>\n",
       "      <td>subredditdrama</td>\n",
       "      <td>videos</td>\n",
       "      <td>78</td>\n",
       "    </tr>\n",
       "    <tr>\n",
       "      <th>9006</th>\n",
       "      <td>circlebroke2</td>\n",
       "      <td>pics</td>\n",
       "      <td>77</td>\n",
       "    </tr>\n",
       "  </tbody>\n",
       "</table>\n",
       "</div>"
      ],
      "text/plain": [
       "      SOURCE_SUBREDDIT   TARGET_SUBREDDIT  counts\n",
       "31082   shitredditsays    twoxchromosomes     120\n",
       "34945   subredditdrama      relationships     100\n",
       "14431  evenwithcontext          askreddit      97\n",
       "1102          amrsucks  againstmensrights      89\n",
       "33765   subredditdrama          askreddit      88\n",
       "34837   subredditdrama               pics      85\n",
       "32907         srssucks     shitredditsays      79\n",
       "35219   subredditdrama      todayilearned      79\n",
       "35314   subredditdrama             videos      78\n",
       "9006      circlebroke2               pics      77"
      ]
     },
     "execution_count": 13,
     "metadata": {},
     "output_type": "execute_result"
    }
   ],
   "source": [
    "conflicts = r_neg.groupby(['SOURCE_SUBREDDIT', 'TARGET_SUBREDDIT']).size().reset_index(name='counts')\n",
    "conflicts = conflicts.sort_values(by=['counts'], ascending=False)\n",
    "conflicts = conflicts[conflicts['counts'] > 10]\n",
    "conflicts.head(10)"
   ]
  },
  {
   "cell_type": "code",
   "execution_count": 14,
   "metadata": {},
   "outputs": [
    {
     "name": "stdout",
     "output_type": "stream",
     "text": [
      "Number of nodes in conflict:  530\n",
      "Number of nodes in total graph:  67180\n",
      "Percentage of nodes in conflict:  0.007889252753795772\n",
      "\n",
      "Number of attacker nodes:  240\n",
      "Number of nodes in total graph:  67180\n",
      "Percentage of attacker nodes:  0.003572491813039595\n",
      "\n",
      "Number of attacked nodes:  365\n",
      "Number of nodes in total graph:  67180\n",
      "Percentage of attacked nodes:  0.005433164632331051\n",
      "\n",
      "Number of attacker nodes that are also attacked:  75\n",
      "Number of attacker nodes:  240\n",
      "Percentage of attacker nodes that are also attacked:  0.3125\n"
     ]
    }
   ],
   "source": [
    "# % of nodes that are in conflict \n",
    "node_in_conflicts = set(conflicts[\"SOURCE_SUBREDDIT\"].unique()).union(set(conflicts[\"TARGET_SUBREDDIT\"].unique()))\n",
    "print('Number of nodes in conflict: ', len(node_in_conflicts))\n",
    "print('Number of nodes in total graph: ', G.number_of_nodes())\n",
    "print('Percentage of nodes in conflict: ', len(node_in_conflicts)/G.number_of_nodes())\n",
    "\n",
    "attacker_nodes = set(conflicts[\"SOURCE_SUBREDDIT\"].unique())\n",
    "print('\\nNumber of attacker nodes: ', len(attacker_nodes))\n",
    "print('Number of nodes in total graph: ', G.number_of_nodes())\n",
    "print('Percentage of attacker nodes: ', len(attacker_nodes)/G.number_of_nodes())\n",
    "\n",
    "attacked_nodes = set(conflicts[\"TARGET_SUBREDDIT\"].unique())\n",
    "print('\\nNumber of attacked nodes: ', len(attacked_nodes))\n",
    "print('Number of nodes in total graph: ', G.number_of_nodes())\n",
    "print('Percentage of attacked nodes: ', len(attacked_nodes)/G.number_of_nodes())\n",
    "\n",
    "# % of attacker nodes that are also attacked\n",
    "print('\\nNumber of attacker nodes that are also attacked: ', len(attacker_nodes.intersection(attacked_nodes)))\n",
    "print('Number of attacker nodes: ', len(attacker_nodes))\n",
    "print('Percentage of attacker nodes that are also attacked: ', len(attacker_nodes.intersection(attacked_nodes))/len(attacker_nodes))\n"
   ]
  },
  {
   "cell_type": "code",
   "execution_count": 15,
   "metadata": {},
   "outputs": [],
   "source": [
    "G_conflicts = nx.from_pandas_edgelist(conflicts, 'SOURCE_SUBREDDIT', 'TARGET_SUBREDDIT', edge_attr='counts', create_using=nx.DiGraph())"
   ]
  },
  {
   "attachments": {},
   "cell_type": "markdown",
   "metadata": {},
   "source": [
    "# Measures"
   ]
  },
  {
   "attachments": {},
   "cell_type": "markdown",
   "metadata": {},
   "source": [
    "## Conflict graph"
   ]
  },
  {
   "cell_type": "code",
   "execution_count": 16,
   "metadata": {},
   "outputs": [],
   "source": [
    "# in degree\n",
    "in_deg_conflicts = dict(G_conflicts.in_degree())\n",
    "in_deg_conflicts = {k: v for k, v in sorted(in_deg_conflicts.items(), key=lambda item: item[1], reverse=True)}\n",
    "\n",
    "# out degree\n",
    "out_deg_conflicts = dict(G_conflicts.out_degree())\n",
    "out_deg_conflicts = {k: v for k, v in sorted(out_deg_conflicts.items(), key=lambda item: item[1], reverse=True)}\n",
    "\n",
    "# closeness centrality\n",
    "closeness_conflicts = nx.closeness_centrality(G_conflicts)\n",
    "closeness_conflicts = {k: v for k, v in sorted(closeness_conflicts.items(), key=lambda item: item[1], reverse=True)}\n",
    "\n",
    "# betweenness centrality\n",
    "betweenness_conflicts = nx.betweenness_centrality(G_conflicts)\n",
    "betweenness_conflicts = {k: v for k, v in sorted(betweenness_conflicts.items(), key=lambda item: item[1], reverse=True)}\n",
    "\n",
    "# eigenvector centrality\n",
    "eigenvector_conflicts = nx.eigenvector_centrality(G_conflicts)\n",
    "eigenvector_conflicts = {k: v for k, v in sorted(eigenvector_conflicts.items(), key=lambda item: item[1], reverse=True)}"
   ]
  },
  {
   "attachments": {},
   "cell_type": "markdown",
   "metadata": {},
   "source": [
    "## Full graph"
   ]
  },
  {
   "cell_type": "code",
   "execution_count": 19,
   "metadata": {},
   "outputs": [],
   "source": [
    "closeness_full = nx.closeness_centrality(G)\n",
    "betweenness_full = nx.betweenness_centrality(G)\n",
    "eigenvector_full = nx.eigenvector_centrality(G)"
   ]
  },
  {
   "attachments": {},
   "cell_type": "markdown",
   "metadata": {},
   "source": [
    "## Negative Graph"
   ]
  },
  {
   "cell_type": "code",
   "execution_count": null,
   "metadata": {},
   "outputs": [],
   "source": [
    "closeness_neg = nx.closeness_centrality(G_neg)\n",
    "betweenness_neg = nx.betweenness_centrality(G_neg)\n",
    "eigenvector_neg = nx.eigenvector_centrality(G_neg)"
   ]
  },
  {
   "attachments": {},
   "cell_type": "markdown",
   "metadata": {},
   "source": [
    "## Positive Graph"
   ]
  },
  {
   "cell_type": "code",
   "execution_count": null,
   "metadata": {},
   "outputs": [],
   "source": [
    "closeness_pos = nx.closeness_centrality(G_pos)\n",
    "betweenness_pos = nx.betweenness_centrality(G_pos)\n",
    "eigenvector_pos = nx.eigenvector_centrality(G_pos)"
   ]
  },
  {
   "cell_type": "code",
   "execution_count": null,
   "metadata": {},
   "outputs": [],
   "source": [
    "pd.DataFrame.from_dict(closeness_conflicts, orient='index').to_csv('results/closeness_conflicts.csv')\n",
    "pd.DataFrame.from_dict(betweenness_conflicts, orient='index').to_csv('results/betweenness_conflicts.csv')\n",
    "pd.DataFrame.from_dict(eigenvector_conflicts, orient='index').to_csv('results/eigenvector_conflicts.csv')\n",
    "\n",
    "pd.DataFrame.from_dict(closeness_full, orient='index').to_csv('results/closeness_full.csv')\n",
    "pd.DataFrame.from_dict(betweenness_full, orient='index').to_csv('results/betweenness_full.csv')\n",
    "pd.DataFrame.from_dict(eigenvector_full, orient='index').to_csv('results/eigenvector_full.csv')\n",
    "\n",
    "pd.DataFrame.from_dict(closeness_neg, orient='index').to_csv('results/closeness_neg.csv')\n",
    "pd.DataFrame.from_dict(betweenness_neg, orient='index').to_csv('results/betweenness_neg.csv')\n",
    "pd.DataFrame.from_dict(eigenvector_neg, orient='index').to_csv('results/eigenvector_neg.csv')\n",
    "\n",
    "pd.DataFrame.from_dict(closeness_pos, orient='index').to_csv('results/closeness_pos.csv')\n",
    "pd.DataFrame.from_dict(betweenness_pos, orient='index').to_csv('results/betweenness_pos.csv')\n",
    "pd.DataFrame.from_dict(eigenvector_pos, orient='index').to_csv('results/eigenvector_pos.csv')"
   ]
  }
 ],
 "metadata": {
  "kernelspec": {
   "display_name": "ml",
   "language": "python",
   "name": "python3"
  },
  "language_info": {
   "codemirror_mode": {
    "name": "ipython",
    "version": 3
   },
   "file_extension": ".py",
   "mimetype": "text/x-python",
   "name": "python",
   "nbconvert_exporter": "python",
   "pygments_lexer": "ipython3",
   "version": "3.10.8"
  },
  "orig_nbformat": 4,
  "vscode": {
   "interpreter": {
    "hash": "08eac26dc1f80337b7d87e94e7159a5bad95c2e85f47efef91c61359b3afbfe9"
   }
  }
 },
 "nbformat": 4,
 "nbformat_minor": 2
}
