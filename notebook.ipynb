{
 "cells": [
  {
   "cell_type": "code",
   "execution_count": 1,
   "metadata": {},
   "outputs": [],
   "source": [
    "import csv\n",
    "import pandas as pd\n",
    "import numpy as np\n",
    "\n",
    "# Read tsv file\n",
    "r_body  = pd.read_csv('soc-redditHyperlinks-body.tsv', sep='\\t')\n",
    "r_title = pd.read_csv('soc-redditHyperlinks-title.tsv', sep='\\t')\n"
   ]
  },
  {
   "cell_type": "code",
   "execution_count": 2,
   "metadata": {},
   "outputs": [
    {
     "name": "stdout",
     "output_type": "stream",
     "text": [
      "  SOURCE_SUBREDDIT TARGET_SUBREDDIT  POST_ID            TIMESTAMP  \\\n",
      "0  leagueoflegends  teamredditteams  1u4nrps  2013-12-31 16:39:58   \n",
      "1       theredlion           soccer   1u4qkd  2013-12-31 18:18:37   \n",
      "2     inlandempire           bikela  1u4qlzs  2014-01-01 14:54:35   \n",
      "3              nfl              cfb  1u4sjvs  2013-12-31 17:37:55   \n",
      "4       playmygame          gamedev  1u4w5ss  2014-01-01 02:51:13   \n",
      "\n",
      "   LINK_SENTIMENT                                         PROPERTIES  \n",
      "0               1  345.0,298.0,0.75652173913,0.0173913043478,0.08...  \n",
      "1              -1  101.0,98.0,0.742574257426,0.019801980198,0.049...  \n",
      "2               1  85.0,85.0,0.752941176471,0.0235294117647,0.082...  \n",
      "3               1  1124.0,949.0,0.772241992883,0.0017793594306,0....  \n",
      "4               1  715.0,622.0,0.777622377622,0.00699300699301,0....  \n",
      "          SOURCE_SUBREDDIT TARGET_SUBREDDIT  count\n",
      "128037  trendingsubreddits        changelog    548\n",
      "114895       streetfighter              sf4    279\n",
      "19991             buildapc    buildapcforme    244\n",
      "80234      mushroomkingdom         gamesale    243\n",
      "17348          bluejackets   bluejacketsgwg    223\n",
      "...                    ...              ...    ...\n",
      "19747                 bugs        gallifrey      1\n",
      "66914              kindred   summonerschool      1\n",
      "66912   kindlescreensavers        discworld      1\n",
      "66911               kindle   writingprompts      1\n",
      "137820            zzseries         toontown      1\n",
      "\n",
      "[137821 rows x 3 columns]\n"
     ]
    }
   ],
   "source": [
    "# print the first 5 rows of the dataframe\n",
    "print(r_body.head())\n",
    "\n",
    "# count all the multi edges\n",
    "print(r_body.groupby(['SOURCE_SUBREDDIT', 'TARGET_SUBREDDIT']).size().reset_index(name='count').sort_values('count', ascending=False))"
   ]
  },
  {
   "cell_type": "code",
   "execution_count": 2,
   "metadata": {},
   "outputs": [
    {
     "data": {
      "text/plain": [
       "SOURCE_SUBREDDIT\n",
       "subredditdrama         1437\n",
       "circlebroke             702\n",
       "drama                   518\n",
       "shitliberalssay         407\n",
       "circlejerkcopypasta     380\n",
       "                       ... \n",
       "mathideas                 1\n",
       "maturechat                1\n",
       "mautitest                 1\n",
       "mavericks                 1\n",
       "10cloverfieldlane         1\n",
       "Name: LINK_SENTIMENT, Length: 4154, dtype: int64"
      ]
     },
     "execution_count": 2,
     "metadata": {},
     "output_type": "execute_result"
    }
   ],
   "source": [
    "# show rows where link_sentiment is -1 (negative) and group by subreddit and count the number of rows\n",
    "r = r_body[r_body['LINK_SENTIMENT'] == -1].groupby('SOURCE_SUBREDDIT')['LINK_SENTIMENT'].count()\n",
    "\n",
    "# order by count\n",
    "r = r.sort_values(ascending=False)\n",
    "r"
   ]
  },
  {
   "cell_type": "code",
   "execution_count": 16,
   "metadata": {},
   "outputs": [
    {
     "data": {
      "text/plain": [
       "SOURCE_SUBREDDIT\n",
       "subredditdrama     7550\n",
       "bestof             3464\n",
       "drama              2172\n",
       "circlebroke2       1642\n",
       "shitpost           1308\n",
       "                   ... \n",
       "dogeawards            1\n",
       "doge                  1\n",
       "dogbootyattacks       1\n",
       "nova                  1\n",
       "lux                   1\n",
       "Name: LINK_SENTIMENT, Length: 6217, dtype: int64"
      ]
     },
     "execution_count": 16,
     "metadata": {},
     "output_type": "execute_result"
    }
   ],
   "source": [
    "# show rows where link_sentiment is -1 (negative) and group by subreddit and count the number of rows\n",
    "r = r_title[r_title['LINK_SENTIMENT'] == -1].groupby('SOURCE_SUBREDDIT')['LINK_SENTIMENT'].count()\n",
    "\n",
    "# order by count\n",
    "r = r.sort_values(ascending=False)\n",
    "r\n"
   ]
  }
 ],
 "metadata": {
  "kernelspec": {
   "display_name": "Python 3.10.6 ('da')",
   "language": "python",
   "name": "python3"
  },
  "language_info": {
   "codemirror_mode": {
    "name": "ipython",
    "version": 3
   },
   "file_extension": ".py",
   "mimetype": "text/x-python",
   "name": "python",
   "nbconvert_exporter": "python",
   "pygments_lexer": "ipython3",
   "version": "3.10.8"
  },
  "orig_nbformat": 4,
  "vscode": {
   "interpreter": {
    "hash": "0c0eebaf10d708ad67bcaa7197977c1b15557a499e35b3a1b503b26347072033"
   }
  }
 },
 "nbformat": 4,
 "nbformat_minor": 2
}
